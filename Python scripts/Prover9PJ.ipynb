{
 "cells": [
  {
   "cell_type": "code",
   "execution_count": 1,
   "metadata": {
    "collapsed": false
   },
   "outputs": [
   ],
   "source": [
    "from provers import *"
   ]
  },
  {
   "cell_type": "code",
   "execution_count": 22,
   "metadata": {
    "collapsed": false
   },
   "outputs": [
   ],
   "source": [
    "ConMag=['C(x,x)','C(x,y)->C(y,x)','C(x,y)&C(y,z)->C(x,z)',\n",
    "         'C(x,y)->C(x*z,y*z)','C(x,y)->C(z*x,z*y)']\n",
    "def PCon(A):\n",
    "    PConPoMag=['x<=y->P(x,y)','P(x,y)&P(y,z)->P(x,z)',\n",
    "         'P(x,y)->P(x*z,y*z)','P(x,y)->P(z*x,z*y)']\n",
    "    li=A.diagram('a')\n",
    "    return p9(li+PConPoMag,[],10000,0,A.cardinality)"
   ]
  },
  {
   "cell_type": "code",
   "execution_count": 12,
   "metadata": {
    "collapsed": false
   },
   "outputs": [
    {
     "name": "stdout",
     "output_type": "stream",
     "text": [
      "Number of nonisomorphic models of cardinality 4  is  549\n"
     ]
    }
   ],
   "source": [
    "#Finding separating examples (works properly for To case)\n",
    "def Chn(n):\n",
    "    return [f\"{i}<={j}\" for j in range(n) for i in range(j+1)]+[f\"-({i}<={j})\" for i in range(n) for j in range(i)]\n",
    "Po=[\"x<=x\",\"x<=y & y<=x -> x=y\",\"x<=y & y<=z -> x<=z\"]\n",
    "M=[\"(x^y)^z=x^(y^z)\",\"x^y=y^x\",\"x^x=x\",\"x^y=x<->x<=y\"]\n",
    "J=[\"(x v y)v z=x v(y v z)\",\"x v y=y v x\",\"x v x=x\",\"x v y=y<->x<=y\"]\n",
    "L=M+J+[\"x v(x^y)=x\",\"x^(x v y)=x\"]\n",
    "D=L+[\"x^(y v z)=(x^y)v(x^z)\"]\n",
    "B=D+[\"x'v x=t\",\"x'^x=b\"]\n",
    "To=L+[\"x^y=x | x^y=y\"] # to-algebras have meet and join\n",
    "ii=[\"x<=y -> x*z<=y*z\",\"x<=y -> z*x<=z*y\"]\n",
    "jj=[\"x*(y v z)=(x*y)v(x*z)\",\"(y v z)*x=(y*x)v(z*x)\"]\n",
    "C=[\"x*y=y*x\"]\n",
    "Lr=[\"x*y<=z<->y<=x\\ z\"]\n",
    "R=Lr+[\"x*y<=z<->x<=z/y\"]\n",
    "In=[\"~-x=x\",\"-~x=x\",\"x*y<=z<->y<=~(-z*x)\",\"x*y<=z<->x<=-(y*~z)\"]\n",
    "Cy=[\"--x=x\",\"x*y<=z<->y<=-(-z*x)\",\"x*y<=z<->x<=-(y*-z)\"]\n",
    "Id=[\"x*x=x\"]\n",
    "PoMag=Po+ii\n",
    "JMag=J+jj\n",
    "MMag=M+ii\n",
    "LMag=L+jj\n",
    "DMag=D+jj\n",
    "BMag=B+jj\n",
    "def ToMag(n): return Chn(n)+jj\n",
    "Sgrp=[\"(x*y)*z=x*(y*z)\"]\n",
    "PoSgrp=PoMag+Sgrp\n",
    "JSgrp=JMag+Sgrp\n",
    "MSgrp=MMag+Sgrp\n",
    "LSgrp=LMag+Sgrp\n",
    "def ToSgrp(n): return Chn(n)+jj+Sgrp\n",
    "Mon=Sgrp+[\"e*x=x\",\"x*e=x\"]\n",
    "PoMon=PoMag+Mon\n",
    "JMon=JMag+Mon\n",
    "MMon=MMag+Mon\n",
    "LMon=LMag+Mon\n",
    "def ToMon(n): return Chn(n)+jj+Mon\n",
    "def I(n): return [f\"{i}*{n-1}={i}\" for i in range(n-1)]+[f\"{n-1}*{i}={i}\" for i in range(n)]\n",
    "Grp=Mon+[\"x'*x=1\"]\n",
    "\n",
    "#a=p9(PoMag,Sgrp,1000,0,2)\n",
    "a=p9(PoMon,[],10000,0,4)"
   ]
  },
  {
   "cell_type": "code",
   "execution_count": 25,
   "metadata": {
    "collapsed": false
   },
   "outputs": [
    {
     "name": "stdout",
     "output_type": "stream",
     "text": [
      "Number of nonisomorphic models of cardinality 4  is  4\n"
     ]
    },
    {
     "data": {
      "text/plain": [
       "[\n",
       " Model(cardinality = 4, index = 0,\n",
       " operations = {\n",
       " \"*\":[\n",
       " [0,1,2,3],\n",
       " [1,1,2,3],\n",
       " [2,2,3,1],\n",
       " [3,3,1,2]], \"e\":0},\n",
       " relations = {\n",
       " \"<=\":[\n",
       " [1,1,0,0],\n",
       " [0,1,0,0],\n",
       " [0,0,1,0],\n",
       " [0,0,0,1]], \n",
       " \"P\":[\n",
       " [1,1,0,0],\n",
       " [0,1,0,0],\n",
       " [0,0,1,0],\n",
       " [0,0,0,1]]}),\n",
       " \n",
       " Model(cardinality = 4, index = 1,\n",
       " operations = {\n",
       " \"*\":[\n",
       " [0,1,2,3],\n",
       " [1,1,2,3],\n",
       " [2,2,3,1],\n",
       " [3,3,1,2]], \"e\":0},\n",
       " relations = {\n",
       " \"<=\":[\n",
       " [1,1,0,0],\n",
       " [0,1,0,0],\n",
       " [0,0,1,0],\n",
       " [0,0,0,1]], \n",
       " \"P\":[\n",
       " [1,1,1,1],\n",
       " [0,1,1,1],\n",
       " [0,1,1,1],\n",
       " [0,1,1,1]]}),\n",
       " \n",
       " Model(cardinality = 4, index = 2,\n",
       " operations = {\n",
       " \"*\":[\n",
       " [0,1,2,3],\n",
       " [1,1,2,3],\n",
       " [2,2,3,1],\n",
       " [3,3,1,2]], \"e\":0},\n",
       " relations = {\n",
       " \"<=\":[\n",
       " [1,1,0,0],\n",
       " [0,1,0,0],\n",
       " [0,0,1,0],\n",
       " [0,0,0,1]], \n",
       " \"P\":[\n",
       " [1,1,0,0],\n",
       " [1,1,0,0],\n",
       " [0,0,1,0],\n",
       " [0,0,0,1]]}),\n",
       " \n",
       " Model(cardinality = 4, index = 3,\n",
       " operations = {\n",
       " \"*\":[\n",
       " [0,1,2,3],\n",
       " [1,1,2,3],\n",
       " [2,2,3,1],\n",
       " [3,3,1,2]], \"e\":0},\n",
       " relations = {\n",
       " \"<=\":[\n",
       " [1,1,0,0],\n",
       " [0,1,0,0],\n",
       " [0,0,1,0],\n",
       " [0,0,0,1]], \n",
       " \"P\":[\n",
       " [1,1,1,1],\n",
       " [1,1,1,1],\n",
       " [1,1,1,1],\n",
       " [1,1,1,1]]})]"
      ]
     },
     "execution_count": 25,
     "metadata": {
     },
     "output_type": "execute_result"
    }
   ],
   "source": [
    "PCon(a[548])"
   ]
  },
  {
   "cell_type": "code",
   "execution_count": 26,
   "metadata": {
    "collapsed": false
   },
   "outputs": [
    {
     "data": {
      "text/plain": [
       "['__class__',\n",
       " '__delattr__',\n",
       " '__dict__',\n",
       " '__dir__',\n",
       " '__doc__',\n",
       " '__eq__',\n",
       " '__format__',\n",
       " '__ge__',\n",
       " '__getattribute__',\n",
       " '__gt__',\n",
       " '__hash__',\n",
       " '__init__',\n",
       " '__init_subclass__',\n",
       " '__le__',\n",
       " '__lt__',\n",
       " '__module__',\n",
       " '__ne__',\n",
       " '__new__',\n",
       " '__reduce__',\n",
       " '__reduce_ex__',\n",
       " '__repr__',\n",
       " '__setattr__',\n",
       " '__sizeof__',\n",
       " '__str__',\n",
       " '__subclasshook__',\n",
       " '__weakref__',\n",
       " 'cardinality',\n",
       " 'diagram',\n",
       " 'find_extensions',\n",
       " 'inH',\n",
       " 'inS',\n",
       " 'index',\n",
       " 'mace4format',\n",
       " 'operations',\n",
       " 'positive_diagram',\n",
       " 'relations']"
      ]
     },
     "execution_count": 26,
     "metadata": {
     },
     "output_type": "execute_result"
    }
   ],
   "source": [
    "dir(A)"
   ]
  },
  {
   "cell_type": "code",
   "execution_count": 7,
   "metadata": {
    "collapsed": false
   },
   "outputs": [
    {
     "name": "stdout",
     "output_type": "stream",
     "text": [
      "Number of nonisomorphic models of cardinality 2  is  16\n"
     ]
    }
   ],
   "source": [
    "a=p9(PoMag,[],1000,0,2)"
   ]
  },
  {
   "cell_type": "code",
   "execution_count": 8,
   "metadata": {
    "collapsed": false
   },
   "outputs": [
    {
     "name": "stdout",
     "output_type": "stream",
     "text": [
      "Number of nonisomorphic models of cardinality 2  is  6\n"
     ]
    }
   ],
   "source": [
    "a=p9(Lr+PoMag,[],1000,0,2)"
   ]
  },
  {
   "cell_type": "code",
   "execution_count": 6,
   "metadata": {
    "collapsed": false
   },
   "outputs": [
    {
     "name": "stdout",
     "output_type": "stream",
     "text": [
      "Number of nonisomorphic models of cardinality 2  is  10\n"
     ]
    },
    {
     "data": {
      "text/plain": [
       "[\n",
       " Model(cardinality = 2, index = 0,\n",
       " operations = {\n",
       " \"*\":[\n",
       " [0,0],\n",
       " [0,0]]},\n",
       " relations = {\n",
       " \"<=\":[\n",
       " [1,0],\n",
       " [0,1]]}),\n",
       " \n",
       " Model(cardinality = 2, index = 1,\n",
       " operations = {\n",
       " \"*\":[\n",
       " [0,0],\n",
       " [0,0]]},\n",
       " relations = {\n",
       " \"<=\":[\n",
       " [1,0],\n",
       " [1,1]]}),\n",
       " \n",
       " Model(cardinality = 2, index = 2,\n",
       " operations = {\n",
       " \"*\":[\n",
       " [0,0],\n",
       " [0,1]]},\n",
       " relations = {\n",
       " \"<=\":[\n",
       " [1,0],\n",
       " [0,1]]}),\n",
       " \n",
       " Model(cardinality = 2, index = 3,\n",
       " operations = {\n",
       " \"*\":[\n",
       " [0,0],\n",
       " [0,1]]},\n",
       " relations = {\n",
       " \"<=\":[\n",
       " [1,0],\n",
       " [1,1]]}),\n",
       " \n",
       " Model(cardinality = 2, index = 4,\n",
       " operations = {\n",
       " \"*\":[\n",
       " [0,0],\n",
       " [1,0]]},\n",
       " relations = {\n",
       " \"<=\":[\n",
       " [1,0],\n",
       " [0,1]]}),\n",
       " \n",
       " Model(cardinality = 2, index = 5,\n",
       " operations = {\n",
       " \"*\":[\n",
       " [0,1],\n",
       " [0,0]]},\n",
       " relations = {\n",
       " \"<=\":[\n",
       " [1,0],\n",
       " [0,1]]}),\n",
       " \n",
       " Model(cardinality = 2, index = 6,\n",
       " operations = {\n",
       " \"*\":[\n",
       " [0,1],\n",
       " [0,1]]},\n",
       " relations = {\n",
       " \"<=\":[\n",
       " [1,0],\n",
       " [0,1]]}),\n",
       " \n",
       " Model(cardinality = 2, index = 7,\n",
       " operations = {\n",
       " \"*\":[\n",
       " [0,1],\n",
       " [0,1]]},\n",
       " relations = {\n",
       " \"<=\":[\n",
       " [1,0],\n",
       " [1,1]]}),\n",
       " \n",
       " Model(cardinality = 2, index = 8,\n",
       " operations = {\n",
       " \"*\":[\n",
       " [1,0],\n",
       " [0,0]]},\n",
       " relations = {\n",
       " \"<=\":[\n",
       " [1,0],\n",
       " [0,1]]}),\n",
       " \n",
       " Model(cardinality = 2, index = 9,\n",
       " operations = {\n",
       " \"*\":[\n",
       " [1,0],\n",
       " [1,0]]},\n",
       " relations = {\n",
       " \"<=\":[\n",
       " [1,0],\n",
       " [0,1]]})]"
      ]
     },
     "execution_count": 6,
     "metadata": {
     },
     "output_type": "execute_result"
    }
   ],
   "source": [
    "has_Lr=[\"exists x(x*y<=z & (w*y<=z->w<=x))\"]  # x*y<=z has a largest solution for x\n",
    "p9(PoMag,has_Lr,1000,0,2) # Want to find a PoMag such that no Lr can exist"
   ]
  },
  {
   "cell_type": "code",
   "execution_count": 0,
   "metadata": {
    "collapsed": false
   },
   "outputs": [
   ],
   "source": [
   ]
  },
  {
   "cell_type": "code",
   "execution_count": 2,
   "metadata": {
    "collapsed": false
   },
   "outputs": [
   ],
   "source": [
    "from provers import *"
   ]
  },
  {
   "cell_type": "code",
   "execution_count": 26,
   "metadata": {
    "collapsed": false
   },
   "outputs": [
    {
     "data": {
      "text/html": [
       "<a href=\"https://google.at\">text</a>"
      ],
      "text/plain": [
       "<IPython.core.display.HTML object>"
      ]
     },
     "execution_count": 26,
     "metadata": {
     },
     "output_type": "execute_result"
    }
   ],
   "source": [
    "from IPython.core.display import display, HTML\n",
    "display(HTML(\"\"\"<a href=\"https://google.at\">text</a>\"\"\"))"
   ]
  },
  {
   "cell_type": "code",
   "execution_count": 20,
   "metadata": {
    "collapsed": false
   },
   "outputs": [
    {
     "name": "stdout",
     "output_type": "stream",
     "text": [
      "CPU times: user 3.1 ms, sys: 10.4 ms, total: 13.5 ms\n",
      "Wall time: 29.5 ms\n"
     ]
    }
   ],
   "source": [
    "%%time\n",
    "#Casari 1989 Abelian pregroup (unordered)\n",
    "APreGrp=[\n",
    "    \"(x+y)+z=x+(y+z)\",\n",
    "    \"x+y=y+x\",\n",
    "    \"--x=x\",\n",
    "    \"0+0=0\",\n",
    "    \"x+-x=0\", #redundant\n",
    "    \"x+-0=x\",\n",
    "    \"-(x+y)+-(z+-y)+(x+z)=0\",\n",
    "]\n",
    "#a=p9(APreGrp,[],1000,1000,[6]) #1, 2, 3, 12, 20, 100\n",
    "#a=p9(APreGrp[:1]+APreGrp[2:],[],1000,1000,[5]) #1, 2, 3, 16\n",
    "#n=2;a=p9(APreGrp[:n]+APreGrp[n+1:],[],1000,1000,[5]) #1, 2, 5\n",
    "#n=3;a=p9(APreGrp[:n]+APreGrp[n+1:],[],1000,1000,[5]) #1, 3\n",
    "#n=4;a=p9(APreGrp[:n]+APreGrp[n+1:],[],1000,1000,[6]) #1, 2, 3, 12, 20, 100\n",
    "#n=5;a=p9(APreGrp[:n]+APreGrp[n+1:],[],1000,1000,[6]) #1, 4\n",
    "#n=6;a=p9(APreGrp[:n]+APreGrp[n+1:],[],1000,1000,[6]) #1, 2, 3, 12, 29\n",
    "n=4;a=p9(APreGrp[:n]+APreGrp[n+1:],APreGrp[n:n+1],0,1000)"
   ]
  },
  {
   "cell_type": "code",
   "execution_count": 38,
   "metadata": {
    "collapsed": false
   },
   "outputs": [
    {
     "name": "stdout",
     "output_type": "stream",
     "text": [
      "CPU times: user 271 ms, sys: 140 ms, total: 411 ms\n",
      "Wall time: 3min 23s\n"
     ]
    }
   ],
   "source": [
    "%%time\n",
    "#Casari 1989 Abelian po-pregroup\n",
    "po=[\"x<=x\",\"x<=y & y<=x -> x=y\",\"x<=y & y<=z -> x<=z\"]\n",
    "op=[\"x<=y -> x+z<=y+z\"]\n",
    "G7=[\"0<=-x+y -> x<=y\"]\n",
    "APreGrp=[\n",
    "    \"(x+y)+z=x+(y+z)\",\n",
    "    \"x+y=y+x\", #redundant\n",
    "    \"--x=x\", #redundant\n",
    "    \"0+0=0\",\n",
    "    \"x+-x=0\", #redundant\n",
    "    \"x+-0=x\", #redundant\n",
    "    \"-(x+y)+-(z+-y)+(x+z)=0\",\n",
    "]\n",
    "#a=p9(APreGrp+po+op+G7,[],1000,1000,[7]) #1, 2, 3, 8, 11, 31, 53\n",
    "#n=1;a=p9(APreGrp[:n]+APreGrp[n+1:]+po+op+G7,[],1000,1000,[7]) #1, 2, 3, 8, 11\n",
    "#n=1;a=p9(APreGrp[:n]+APreGrp[n+1:]+po+op+G7,APreGrp[n:n+1],0,1000)\n",
    "#n=2;a=p9(APreGrp[:n]+APreGrp[n+1:]+po+op+G7,[],1000,1000,[7]) #1, 2, 3, 8, 11\n",
    "#n=2;a=p9(APreGrp[:n]+APreGrp[n+1:]+po+op+G7,APreGrp[n:n+1],0,1000)\n",
    "#n=3;a=p9(APreGrp[:n]+APreGrp[n+1:]+po+op+G7,[],1000,1000,[5]) #1, 3\n",
    "#n=4;a=p9(APreGrp[:n]+APreGrp[n+1:]+po+op+G7,[],1000,1000,[6]) #1, 2, 3, 8, 11\n",
    "#n=4;a=p9(APreGrp[:n]+APreGrp[n+1:]+po+op+G7,APreGrp[n:n+1],0,1000)\n",
    "#n=5;a=p9(APreGrp[:n]+APreGrp[n+1:]+po+op+G7,[],1000,1000,[6]) #1, 2, 3, 8, 11\n",
    "#n=5;a=p9(APreGrp[:n]+APreGrp[n+1:]+po+op+G7,APreGrp[n:n+1],0,1000)\n",
    "#n=6;a=p9(APreGrp[:n]+APreGrp[n+1:]+po+op+G7,[],1000,1000,[6]) #1, 2, 3, 8, 11\n",
    "n=6;a=p9(APreGrp[:n]+APreGrp[n+1:]+po+op+G7,APreGrp[n:n+1],0,10000)"
   ]
  },
  {
   "cell_type": "code",
   "execution_count": 35,
   "metadata": {
    "collapsed": false
   },
   "outputs": [
    {
     "data": {
      "text/plain": [
       "[\n",
       " Proof(syntax=\"Prover9\", formula_list=[\n",
       " [1, 'x <= y & y <= x -> x = y # label(non_clause)', []],\n",
       " [2, '0 <= -x + y -> x <= y # label(non_clause)', []],\n",
       " [3, 'x + -0 = x # label(non_clause) # label(goal)', []],\n",
       " [4, 'x + y + z = x + (y + z)', []],\n",
       " [5, 'x + y = y + x', []],\n",
       " [6, '--x = x', []],\n",
       " [7, 'x + -x = 0', []],\n",
       " [8, 'x <= x', []],\n",
       " [9, '-(x <= y) | -(y <= x) | y = x', [1]],\n",
       " [10, '-(0 <= -x + y) | x <= y', [2]],\n",
       " [11, 'c1 + -0 != c1', [3]],\n",
       " [12, 'x + y + z = y + (x + z)', [5, 4]],\n",
       " [13, 'x + (y + z) = y + (x + z)', [4, 12]],\n",
       " [14, '0 + x = y + (-y + x)', [7, 4]],\n",
       " [15, 'x + (-x + y) = 0 + y', [14]],\n",
       " [16, '0 = x + (y + -(x + y))', [7, 4]],\n",
       " [17, 'x + (y + -(x + y)) = 0', [16]],\n",
       " [18, '-(0 <= x + -y) | y <= x', [5, 10]],\n",
       " [19, '-(0 <= 0 + x) | y <= --y + x', [15, 10]],\n",
       " [20, '-(0 <= 0 + x) | y <= y + x', [6, 19]],\n",
       " [21, '-(0 <= 0) | x <= x + -0', [7, 20]],\n",
       " [22, 'x <= x + -0', [21, 8]],\n",
       " [23, '-(x + -0 <= x) | x = x + -0', [9, 22]],\n",
       " [24, '-(c1 + -0 <= c1)', [23, 11]],\n",
       " [25, '-(0 <= c1 + -(c1 + -0))', [18, 24]],\n",
       " [26, '-(0 <= c1 + -(c1 + -0) + -0)', [18, 25]],\n",
       " [27, '-(0 <= -0 + (c1 + -(c1 + -0)))', [5, 26]],\n",
       " [28, '-(0 <= c1 + (-0 + -(c1 + -0)))', [13, 27]],\n",
       " [29, '-(0 <= 0)', [17, 28]],\n",
       " [30, '$F', [29, 8]]])]"
      ]
     },
     "execution_count": 35,
     "metadata": {
     },
     "output_type": "execute_result"
    }
   ],
   "source": [
    "a"
   ]
  },
  {
   "cell_type": "code",
   "execution_count": 13,
   "metadata": {
    "collapsed": false
   },
   "outputs": [
    {
     "name": "stdout",
     "output_type": "stream",
     "text": [
      "Number of nonisomorphic models of cardinality 2  is  2\n",
      "Number of nonisomorphic models of cardinality 3  is  5\n",
      "Number of nonisomorphic models of cardinality 4  is  16\n"
     ]
    },
    {
     "name": "stdout",
     "output_type": "stream",
     "text": [
      "Number of nonisomorphic models of cardinality 5  is  63\n",
      "Fine spectrum:  [1, 2, 5, 16, 63]\n"
     ]
    }
   ],
   "source": [
    "Pos=[\"x<=x\",\"x<=y & y<=x -> x=y\",\"x<=y & y<=z -> x<=z\"]\n",
    "a=p9(Pos,[],1000,1000,[5])"
   ]
  },
  {
   "cell_type": "code",
   "execution_count": 19,
   "metadata": {
    "collapsed": false
   },
   "outputs": [
    {
     "name": "stdout",
     "output_type": "stream",
     "text": [
      "Number of nonisomorphic models of cardinality 2  is  1\n",
      "Number of nonisomorphic models of cardinality 3  is  2\n",
      "Number of nonisomorphic models of cardinality 4  is  5\n",
      "Number of nonisomorphic models of cardinality 5  is  16\n"
     ]
    },
    {
     "name": "stdout",
     "output_type": "stream",
     "text": [
      "Number of nonisomorphic models of cardinality 6  is  63\n",
      "Fine spectrum:  [1, 1, 2, 5, 16, 63]\n"
     ]
    }
   ],
   "source": [
    "lbPos=p9([\"0<=x\"]+Pos,[],1000,1000,[6])"
   ]
  },
  {
   "cell_type": "code",
   "execution_count": 18,
   "metadata": {
    "collapsed": false
   },
   "outputs": [
    {
     "name": "stdout",
     "output_type": "stream",
     "text": [
      "Number of nonisomorphic models of cardinality 2  is  1\n",
      "Number of nonisomorphic models of cardinality 3  is  1\n",
      "Number of nonisomorphic models of cardinality 4  is  2\n",
      "Number of nonisomorphic models of cardinality 5  is  5\n"
     ]
    },
    {
     "name": "stdout",
     "output_type": "stream",
     "text": [
      "Number of nonisomorphic models of cardinality 6  is  16\n"
     ]
    },
    {
     "name": "stdout",
     "output_type": "stream",
     "text": [
      "Number of nonisomorphic models of cardinality 7  is  63\n",
      "Fine spectrum:  [1, 1, 1, 2, 5, 16, 63]\n"
     ]
    }
   ],
   "source": [
    "bPos=p9([\"0<=x\",\"x<=1\"]+Pos,[],1000,1000,[7])"
   ]
  },
  {
   "cell_type": "code",
   "execution_count": 22,
   "metadata": {
    "collapsed": false
   },
   "outputs": [
    {
     "name": "stdout",
     "output_type": "stream",
     "text": [
      "Number of nonisomorphic models of cardinality 2  is  6\n",
      "Number of nonisomorphic models of cardinality 3  is  43\n"
     ]
    },
    {
     "name": "stdout",
     "output_type": "stream",
     "text": [
      "Number of nonisomorphic models of cardinality 4  is  452\n",
      "Fine spectrum:  [1, 6, 43, 452]\n"
     ]
    }
   ],
   "source": [
    "po=[\"x<=x\",\"x<=y & y<=x -> x=y\",\"x<=y & y<=z -> x<=z\"]\n",
    "unar=[\"x<=y -> f(x)<=f(y)\"]\n",
    "pounar=p9(po+unar,[],1000,0,[4])"
   ]
  },
  {
   "cell_type": "code",
   "execution_count": 20,
   "metadata": {
    "collapsed": false
   },
   "outputs": [
    {
     "name": "stdout",
     "output_type": "stream",
     "text": [
      "Number of nonisomorphic models of cardinality 2  is  6\n",
      "Number of nonisomorphic models of cardinality 3  is  39\n"
     ]
    },
    {
     "name": "stdout",
     "output_type": "stream",
     "text": [
      "Number of nonisomorphic models of cardinality 4  is  386\n",
      "Fine spectrum:  [1, 6, 39, 386]\n"
     ]
    }
   ],
   "source": [
    "urev=[\"x<=y -> f(y)<=f(x)\"]\n",
    "pourev=p9(po+urev,[],1000,0,[4])"
   ]
  },
  {
   "cell_type": "code",
   "execution_count": 8,
   "metadata": {
    "collapsed": false
   },
   "outputs": [
    {
     "name": "stdout",
     "output_type": "stream",
     "text": [
      "Number of nonisomorphic models of cardinality 2  is  1\n",
      "Number of nonisomorphic models of cardinality 3  is  2\n",
      "Number of nonisomorphic models of cardinality 4  is  11\n"
     ]
    },
    {
     "name": "stdout",
     "output_type": "stream",
     "text": [
      "Number of nonisomorphic models of cardinality 5  is  170\n"
     ]
    },
    {
     "name": "stdout",
     "output_type": "stream",
     "text": [
      "Number of nonisomorphic models of cardinality 6  is  7429\n",
      "Fine spectrum:  [1, 1, 2, 11, 170, 7429]\n"
     ]
    }
   ],
   "source": [
    "po=[\"x<=x\",\"x<=y & y<=x -> x=y\",\"x<=y & y<=z -> x<=z\"]\n",
    "ord_pr=[\"x<=y -> x*z<=y*z\",\"x<=y -> z*x<=z*y\"]\n",
    "assoc=[\"(x*y)*z=x*(y*z)\"]\n",
    "comm=[\"x*y=y*x\"]\n",
    "iden=[\"0*x=x\",\"x*0=x\"]\n",
    "lin=[\"x<=y|y<=x\"]\n",
    "lbnd=[\"0<=x\"]\n",
    "#inve=[\"x*x'=1\",\"x'*x=1\"]\n",
    "#a=p9(po+ord_pr+assoc+iden+comm,[\"x*x=x\"],10,1000)\n",
    "a=p9(po+ord_pr+lin+iden+lbnd,[],10000,1000,[6])"
   ]
  },
  {
   "cell_type": "code",
   "execution_count": 9,
   "metadata": {
    "collapsed": false
   },
   "outputs": [
    {
     "name": "stdout",
     "output_type": "stream",
     "text": [
      "Number of nonisomorphic models of cardinality 2  is  1\n",
      "Number of nonisomorphic models of cardinality 3  is  2\n",
      "Number of nonisomorphic models of cardinality 4  is  11\n"
     ]
    },
    {
     "name": "stdout",
     "output_type": "stream",
     "text": [
      "Number of nonisomorphic models of cardinality 5  is  170\n",
      "Fine spectrum:  [1, 1, 2, 11, 170]\n"
     ]
    }
   ],
   "source": [
    "po=[\"x<=x\",\"x<=y & y<=x -> x=y\",\"x<=y & y<=z -> x<=z\"]\n",
    "ord_pr=[\"x<=y -> x*z<=y*z\",\"x<=y -> z*x<=z*y\"]\n",
    "assoc=[\"(x*y)*z=x*(y*z)\"]\n",
    "comm=[\"x*y=y*x\"]\n",
    "iden=[\"e*x=x\",\"x*e=x\"]\n",
    "lin=[\"x<=y|y<=x\"]\n",
    "lbnd=[\"x<=e\"]\n",
    "#inve=[\"x*x'=1\",\"x'*x=1\"]\n",
    "#a=p9(po+ord_pr+assoc+iden+comm,[\"x*x=x\"],10,1000)\n",
    "a=p9(po+ord_pr+lin+iden+lbnd,[],10000,1000,[5])"
   ]
  },
  {
   "cell_type": "code",
   "execution_count": 24,
   "metadata": {
    "collapsed": false,
    "scrolled": true
   },
   "outputs": [
    {
     "data": {
      "text/plain": [
       "[\n",
       " Model(cardinality = 2, index = 0,\n",
       " operations = {\n",
       " \"*\":[\n",
       " [1,0],\n",
       " [0,1]], \"c1\":0},\n",
       " relations = {\n",
       " \"<=\":[\n",
       " [1,0],\n",
       " [0,1]]})]"
      ]
     },
     "execution_count": 24,
     "metadata": {
     },
     "output_type": "execute_result"
    }
   ],
   "source": [
    "a"
   ]
  },
  {
   "cell_type": "code",
   "execution_count": 4,
   "metadata": {
    "collapsed": false
   },
   "outputs": [
    {
     "name": "stdout",
     "output_type": "stream",
     "text": [
      "Number of nonisomorphic models of cardinality 2  is  2\n",
      "Number of nonisomorphic models of cardinality 3  is  6\n",
      "Number of nonisomorphic models of cardinality 4  is  40\n"
     ]
    },
    {
     "name": "stdout",
     "output_type": "stream",
     "text": [
      "Number of nonisomorphic models of cardinality 5  is  295\n"
     ]
    },
    {
     "name": "stdout",
     "output_type": "stream",
     "text": [
      "Number of nonisomorphic models of cardinality 6  is  3246\n",
      "Fine spectrum:  [1, 2, 6, 40, 295, 3246]\n",
      "CPU times: user 1.03 s, sys: 534 ms, total: 1.56 s\n",
      "Wall time: 12 s\n"
     ]
    }
   ],
   "source": [
    "%%time\n",
    "Srng01=[\n",
    "    \"(x+y)+z=x+(y+z)\",\n",
    "    \"x+y=y+x\",\n",
    "    \"x+0=x\",\n",
    "    \"(x*y)*z=x*(y*z)\",\n",
    "    \"1*x=x\",\n",
    "    \"x*1=x\",\n",
    "    \"x*(y+z)=x*y+x*z\",\n",
    "    \"(x+y)*z=x*z+y*z\",\n",
    "    \"x*0=0\",\n",
    "    \"0*x=0\",\n",
    "]\n",
    "srng01=p9(Srng01,[],100000,1000,[6]) #5 .5s, 6 13s, 7"
   ]
  },
  {
   "cell_type": "code",
   "execution_count": 0,
   "metadata": {
    "collapsed": false
   },
   "outputs": [
   ],
   "source": [
    "BCKmsl=[]"
   ]
  },
  {
   "cell_type": "code",
   "execution_count": 5,
   "metadata": {
    "collapsed": false
   },
   "outputs": [
    {
     "data": {
      "text/plain": [
       "[\n",
       " Model(cardinality = 2, index = 0,\n",
       " operations = {\n",
       " \"*\":[\n",
       " [0,0],\n",
       " [0,0]]}),\n",
       " \n",
       " Model(cardinality = 2, index = 1,\n",
       " operations = {\n",
       " \"*\":[\n",
       " [0,0],\n",
       " [0,1]]}),\n",
       " \n",
       " Model(cardinality = 2, index = 2,\n",
       " operations = {\n",
       " \"*\":[\n",
       " [0,1],\n",
       " [1,0]]})]"
      ]
     },
     "execution_count": 5,
     "metadata": {
     },
     "output_type": "execute_result"
    }
   ],
   "source": [
    "a[2]"
   ]
  },
  {
   "cell_type": "code",
   "execution_count": 6,
   "metadata": {
    "collapsed": false
   },
   "outputs": [
    {
     "name": "stdout",
     "output_type": "stream",
     "text": [
      "Number of nonisomorphic models of cardinality 2  is  2\n",
      "Number of nonisomorphic models of cardinality 3  is  7\n",
      "Number of nonisomorphic models of cardinality 4  is  35\n"
     ]
    },
    {
     "name": "stdout",
     "output_type": "stream",
     "text": [
      "Number of nonisomorphic models of cardinality 5  is  228\n",
      "Fine spectrum:  [1, 2, 7, 35, 228]\n"
     ]
    }
   ],
   "source": [
    "assoc=[\"(x*y)*z=x*(y*z)\"]\n",
    "comm=[\"x*y=y*x\"]\n",
    "iden=[\"1*x=x\",\"x*1=x\"]\n",
    "a=p9(assoc+iden,[],1000,1000,[5])"
   ]
  },
  {
   "cell_type": "code",
   "execution_count": 1,
   "metadata": {
    "collapsed": false
   },
   "outputs": [
    {
     "data": {
      "text/plain": [
       "2"
      ]
     },
     "execution_count": 1,
     "metadata": {
     },
     "output_type": "execute_result"
    }
   ],
   "source": [
    "1+1"
   ]
  },
  {
   "cell_type": "code",
   "execution_count": 0,
   "metadata": {
    "collapsed": false
   },
   "outputs": [
   ],
   "source": [
   ]
  }
 ],
 "metadata": {
  "kernelspec": {
   "display_name": "Python 3 (Ubuntu Linux)",
   "language": "python",
   "name": "python3-ubuntu",
   "resource_dir": "/usr/local/share/jupyter/kernels/python3-ubuntu"
  },
  "language_info": {
   "codemirror_mode": {
    "name": "ipython",
    "version": 3
   },
   "file_extension": ".py",
   "mimetype": "text/x-python",
   "name": "python",
   "nbconvert_exporter": "python",
   "pygments_lexer": "ipython3",
   "version": "3.8.5"
  }
 },
 "nbformat": 4,
 "nbformat_minor": 4
}